{
 "cells": [
  {
   "cell_type": "markdown",
   "id": "2e74d2d9",
   "metadata": {},
   "source": [
    "# Team 6"
   ]
  },
  {
   "cell_type": "markdown",
   "id": "3d4aba0a",
   "metadata": {},
   "source": [
    "## Project Title: Calculator"
   ]
  },
  {
   "cell_type": "markdown",
   "id": "97310e8c",
   "metadata": {},
   "source": [
    "#### Team Members:\n",
    "\n",
    "    1. Yishak Addis Dessalegne (yishak.h.addis@gmail.com)\n",
    "    2. Bikram Nepal (bikram7nepal7@gmail.com)\n",
    "    3. Abdul Rehman (abdulrehman23hafiz@gmail.com)\n",
    "    4. Bandula Yedum Sampath Karunarathne Jayasekara Mudiyanselage Rambukpothe Gedara (sampathtdn@gmail.com)\n",
    "    5. Anas Mohamed Ahmed Gomaa Abdelrahim (anasgomaa@hotmail.com)"
   ]
  },
  {
   "cell_type": "markdown",
   "id": "b52d11f7",
   "metadata": {},
   "source": [
    "#### Description of the project: \n",
    "\n",
    "The objective of this project is to build a program that can be used as a basic calculator. This program enables the user to choose from a menu the basic operations: addition, subtraction, multiplication, division, second power, square root, and exit. \n",
    "\n",
    "After choosing an operation from the menu list (except the \"exit option\"), the user is requested to input the number (or numbers) to proceed with the arithmetic calculation. \n",
    "\n",
    "In the event that the operator enters a \"-\" value for square root calculation, the program enables an error message while returning to a new operation. \n",
    "\n",
    "Similarly, if the user enters \"0\" as the second number (denominator) of the division operation, the program will display an error message while returning to a new operation. \n",
    "\n",
    "The program continuously requests the desired operation until the user selects the \"Exit\" option in the menu."
   ]
  },
  {
   "cell_type": "markdown",
   "id": "ed491a8c",
   "metadata": {},
   "source": [
    "# Calculator Explanation"
   ]
  },
  {
   "cell_type": "markdown",
   "id": "287cf173",
   "metadata": {},
   "source": [
    "## Importing Math Library"
   ]
  },
  {
   "cell_type": "markdown",
   "id": "03312125",
   "metadata": {},
   "source": [
    "The code starts by importing the square root function from the math library.\n"
   ]
  },
  {
   "cell_type": "code",
   "execution_count": 31,
   "id": "586b9f37",
   "metadata": {},
   "outputs": [],
   "source": [
    "from math import sqrt   "
   ]
  },
  {
   "cell_type": "markdown",
   "id": "034c5625",
   "metadata": {},
   "source": [
    "## Defining Calculator Functions"
   ]
  },
  {
   "cell_type": "markdown",
   "id": "6d774994",
   "metadata": {},
   "source": [
    "Several functions are defined for basic calculator operations, such as addition, subtraction, multiplication, division, calculating the square, and calculating the square root. Error messages are included for handling special cases like division by zero or attempting to calculate the square root of a negative number."
   ]
  },
  {
   "cell_type": "code",
   "execution_count": 32,
   "id": "c833f03e",
   "metadata": {},
   "outputs": [],
   "source": [
    "def add(x, y):\n",
    "    return x + y\n",
    "def subtract(x, y):\n",
    "    return x - y\n",
    "def multiply(x, y):\n",
    "    return x * y"
   ]
  },
  {
   "cell_type": "code",
   "execution_count": 33,
   "id": "0d0b3037",
   "metadata": {},
   "outputs": [],
   "source": [
    "def divide(x, y):\n",
    "    if y == 0:\n",
    "        return \"Cannot divide by zero!\"   \n",
    "    else:\n",
    "        return x / y\n",
    "def power(x):\n",
    "    return x ** 2\n",
    "def square_root(x):\n",
    "    if x < 0:\n",
    "        return \"Cannot calculate square root of a negative number!\" \n",
    "    else:\n",
    "        return sqrt(x)\n"
   ]
  },
  {
   "cell_type": "markdown",
   "id": "c2590b71",
   "metadata": {},
   "source": [
    "## User Menu and Input Validation"
   ]
  },
  {
   "cell_type": "markdown",
   "id": "bd503dbf",
   "metadata": {},
   "source": [
    "Functions are created for displaying the calculator menu and validating user input. The user is prompted to enter a function number, and the program ensures that the input is a valid integer within the specified range.\n"
   ]
  },
  {
   "cell_type": "markdown",
   "id": "6c2e6777",
   "metadata": {},
   "source": [
    "## User Menu"
   ]
  },
  {
   "cell_type": "code",
   "execution_count": 34,
   "id": "1f8c4cd7",
   "metadata": {},
   "outputs": [],
   "source": [
    "def print_menu():\n",
    "    print(\"  \") \n",
    "    print(\"Menu:\")\n",
    "    print(\"  1. Addition\")\n",
    "    print(\"  2. Subtraction\")\n",
    "    print(\"  3. Multiplication\")\n",
    "    print(\"  4. Division\")\n",
    "    print(\"  5. Second Power\")\n",
    "    print(\"  6. Square Root\")\n",
    "    print(\"  7. Exit\")\n",
    "    print(\"  \")  "
   ]
  },
  {
   "cell_type": "markdown",
   "id": "61b14f75",
   "metadata": {},
   "source": [
    "## Input Validation"
   ]
  },
  {
   "cell_type": "markdown",
   "id": "4a33cb09",
   "metadata": {},
   "source": [
    "Function selection with validation"
   ]
  },
  {
   "cell_type": "code",
   "execution_count": 35,
   "id": "d7d6f6d4",
   "metadata": {},
   "outputs": [],
   "source": [
    "def user_input():  \n",
    "    valid_choices = (1, 2, 3, 4, 5, 6, 7)\n",
    "    while True:\n",
    "        try:\n",
    "            choice = int(input(\"Enter Function Number: \"))\n",
    "            if choice in valid_choices:\n",
    "                return choice\n",
    "            else:\n",
    "                print(\"Please enter a valid choice from (1, 2, 3, 4, 5, 6, 7).\")\n",
    "        except ValueError:\n",
    "            print(\"Please enter a valid choice from (1, 2, 3, 4, 5, 6, 7).\")\n",
    "\n"
   ]
  },
  {
   "cell_type": "markdown",
   "id": "ee4c218f",
   "metadata": {},
   "source": [
    "## Getting User Input and Performing Calculator Operation "
   ]
  },
  {
   "cell_type": "markdown",
   "id": "b4b6b3b8",
   "metadata": {},
   "source": [
    "The code runs a loop allowing the user to choose calculator functions until they choose to exit. Depending on the user's choice, the code prompts for input and performs the corresponding calculation, displaying the result"
   ]
  },
  {
   "cell_type": "code",
   "execution_count": 36,
   "id": "3fdf1d08",
   "metadata": {},
   "outputs": [
    {
     "name": "stdout",
     "output_type": "stream",
     "text": [
      "  \n",
      "Menu:\n",
      "  1. Addition\n",
      "  2. Subtraction\n",
      "  3. Multiplication\n",
      "  4. Division\n",
      "  5. Second Power\n",
      "  6. Square Root\n",
      "  7. Exit\n",
      "  \n",
      "Enter Function Number: 1\n",
      "Enter first number: 243\n",
      "Enter second number: 63\n",
      "  \n",
      "Result: 306.0\n",
      "  \n",
      "  \n",
      "Menu:\n",
      "  1. Addition\n",
      "  2. Subtraction\n",
      "  3. Multiplication\n",
      "  4. Division\n",
      "  5. Second Power\n",
      "  6. Square Root\n",
      "  7. Exit\n",
      "  \n",
      "Enter Function Number: 2\n",
      "Enter first number: 4567\n",
      "Enter second number: 4526\n",
      "  \n",
      "Result: 41.0\n",
      "  \n",
      "  \n",
      "Menu:\n",
      "  1. Addition\n",
      "  2. Subtraction\n",
      "  3. Multiplication\n",
      "  4. Division\n",
      "  5. Second Power\n",
      "  6. Square Root\n",
      "  7. Exit\n",
      "  \n",
      "Enter Function Number: 3\n",
      "Enter first number: 234.34\n",
      "Enter second number: 5623.234\n",
      "  \n",
      "Result: 1317748.65556\n",
      "  \n",
      "  \n",
      "Menu:\n",
      "  1. Addition\n",
      "  2. Subtraction\n",
      "  3. Multiplication\n",
      "  4. Division\n",
      "  5. Second Power\n",
      "  6. Square Root\n",
      "  7. Exit\n",
      "  \n",
      "Enter Function Number: 4213414\n",
      "Please enter a valid choice from (1, 2, 3, 4, 5, 6, 7).\n",
      "Enter Function Number: 4\n",
      "Enter first number: 234\n",
      "Enter second number: 23.2\n",
      "  \n",
      "Result: 10.086206896551724\n",
      "  \n",
      "  \n",
      "Menu:\n",
      "  1. Addition\n",
      "  2. Subtraction\n",
      "  3. Multiplication\n",
      "  4. Division\n",
      "  5. Second Power\n",
      "  6. Square Root\n",
      "  7. Exit\n",
      "  \n",
      "Enter Function Number: 5\n",
      "Enter the number: 2374\n",
      "  \n",
      "Result: 5635876.0\n",
      "  \n",
      "  \n",
      "Menu:\n",
      "  1. Addition\n",
      "  2. Subtraction\n",
      "  3. Multiplication\n",
      "  4. Division\n",
      "  5. Second Power\n",
      "  6. Square Root\n",
      "  7. Exit\n",
      "  \n",
      "Enter Function Number: 6\n",
      "Enter the number: 81\n",
      "  \n",
      "Result: 9.0\n",
      "  \n",
      "  \n",
      "Menu:\n",
      "  1. Addition\n",
      "  2. Subtraction\n",
      "  3. Multiplication\n",
      "  4. Division\n",
      "  5. Second Power\n",
      "  6. Square Root\n",
      "  7. Exit\n",
      "  \n",
      "Enter Function Number: 7\n",
      "Shutting down...\n"
     ]
    }
   ],
   "source": [
    "def get_number(message):\n",
    "    while True:\n",
    "        try:\n",
    "            return float(input(message))\n",
    "        except ValueError:\n",
    "            print(\"Please enter a valid number.\")\n",
    "\n",
    "while True:\n",
    "    print_menu()\n",
    "    choice = user_input()\n",
    "\n",
    "    if choice == 7:\n",
    "        print(\"Shutting down...\")\n",
    "        break\n",
    "\n",
    "    if choice == 6:\n",
    "        x = get_number(\"Enter the number: \")\n",
    "        result = square_root(x)\n",
    "    elif choice == 5:\n",
    "        x = get_number(\"Enter the number: \")\n",
    "        result = power(x)\n",
    "    else:\n",
    "        x = get_number(\"Enter first number: \")\n",
    "        y = get_number(\"Enter second number: \")\n",
    "        if choice == 1:\n",
    "            result = add(x, y)\n",
    "        elif choice == 2:\n",
    "            result = subtract(x, y)\n",
    "        elif choice == 3:\n",
    "            result = multiply(x, y)\n",
    "        elif choice == 4:\n",
    "            result = divide(x, y)\n",
    "            \n",
    "    print(\"  \") \n",
    "    print(\"Result:\", result)\n",
    "    print(\"  \") "
   ]
  }
 ],
 "metadata": {
  "kernelspec": {
   "display_name": "Python 3 (ipykernel)",
   "language": "python",
   "name": "python3"
  },
  "language_info": {
   "codemirror_mode": {
    "name": "ipython",
    "version": 3
   },
   "file_extension": ".py",
   "mimetype": "text/x-python",
   "name": "python",
   "nbconvert_exporter": "python",
   "pygments_lexer": "ipython3",
   "version": "3.11.5"
  }
 },
 "nbformat": 4,
 "nbformat_minor": 5
}
